{
 "cells": [
  {
   "cell_type": "code",
   "execution_count": null,
   "metadata": {
    "vscode": {
     "languageId": "plaintext"
    }
   },
   "outputs": [],
   "source": [
    "!pip uninstall gdown -y"
   ]
  },
  {
   "cell_type": "code",
   "execution_count": null,
   "metadata": {
    "vscode": {
     "languageId": "plaintext"
    }
   },
   "outputs": [],
   "source": [
    "!pip install gdown"
   ]
  },
  {
   "cell_type": "code",
   "execution_count": null,
   "metadata": {
    "vscode": {
     "languageId": "plaintext"
    }
   },
   "outputs": [],
   "source": [
    "import pandas as pd\n",
    "import seaborn as sns"
   ]
  },
  {
   "cell_type": "code",
   "execution_count": null,
   "metadata": {
    "vscode": {
     "languageId": "plaintext"
    }
   },
   "outputs": [],
   "source": [
    "from google.colab import files\n",
    "# Abre uma janela para você subir o arquivo manualmente\n",
    "uploaded = files.upload()"
   ]
  },
  {
   "cell_type": "code",
   "execution_count": null,
   "metadata": {
    "vscode": {
     "languageId": "plaintext"
    }
   },
   "outputs": [],
   "source": [
    "import pandas as pd\n",
    "# Tenta ler com separador automático\n",
    "try:\n",
    "    df = pd.read_csv('brasileirao.csv')\n",
    "except:\n",
    "    # Caso dê erro, tenta com outro separador\n",
    "    df = pd.read_csv('brasileirao.csv', sep=';', encoding='utf-8')\n",
    "# Exibe as primeiras linhas\n",
    "df.head()"
   ]
  },
  {
   "cell_type": "code",
   "execution_count": null,
   "metadata": {
    "vscode": {
     "languageId": "plaintext"
    }
   },
   "outputs": [],
   "source": [
    "df"
   ]
  },
  {
   "cell_type": "code",
   "execution_count": null,
   "metadata": {
    "vscode": {
     "languageId": "plaintext"
    }
   },
   "outputs": [],
   "source": [
    "pd.set_option('display.max_rows', None)"
   ]
  },
  {
   "cell_type": "code",
   "execution_count": null,
   "metadata": {
    "vscode": {
     "languageId": "plaintext"
    }
   },
   "outputs": [],
   "source": [
    "df.columns"
   ]
  },
  {
   "cell_type": "code",
   "execution_count": null,
   "metadata": {
    "vscode": {
     "languageId": "plaintext"
    }
   },
   "outputs": [],
   "source": [
    "#df.columns\n",
    "#'temporada', 'lugar', 'time', 'pontos', 'jogado', 'ganhou', 'empate', 'derrota',\n",
    "#'gols', 'gols_marcados', 'diferença_de_gols'"
   ]
  },
  {
   "cell_type": "code",
   "execution_count": null,
   "metadata": {
    "vscode": {
     "languageId": "plaintext"
    }
   },
   "outputs": [],
   "source": [
    "sns.heatmap(df.isnull(),\n",
    "            yticklabels=False,\n",
    "            cbar=False,\n",
    "            cmap='gnuplot')"
   ]
  },
  {
   "cell_type": "code",
   "execution_count": null,
   "metadata": {
    "vscode": {
     "languageId": "plaintext"
    }
   },
   "outputs": [],
   "source": [
    "gols = df[['goals_taken', 'goals_diff']].value_counts()\n",
    "gols.head(20)"
   ]
  },
  {
   "cell_type": "code",
   "execution_count": null,
   "metadata": {
    "vscode": {
     "languageId": "plaintext"
    }
   },
   "outputs": [],
   "source": [
    "time = df[['team']].value_counts()\n",
    "time.head(20)"
   ]
  },
  {
   "cell_type": "code",
   "execution_count": null,
   "metadata": {
    "vscode": {
     "languageId": "plaintext"
    }
   },
   "outputs": [],
   "source": [
    "pontos = df[['team', 'points']].value_counts()\n",
    "pontos.head(20)"
   ]
  },
  {
   "cell_type": "code",
   "execution_count": null,
   "metadata": {
    "vscode": {
     "languageId": "plaintext"
    }
   },
   "outputs": [],
   "source": [
    "jogador = df[['played', 'team']].value_counts()\n",
    "jogador.head(20)"
   ]
  },
  {
   "cell_type": "code",
   "execution_count": null,
   "metadata": {
    "vscode": {
     "languageId": "plaintext"
    }
   },
   "outputs": [],
   "source": [
    "ano = df[['place', 'team']].value_counts()\n",
    "ano.head(20)"
   ]
  },
  {
   "cell_type": "code",
   "execution_count": null,
   "metadata": {
    "vscode": {
     "languageId": "plaintext"
    }
   },
   "outputs": [],
   "source": [
    "temporada = df[df['season'] == 2016].groupby('team')['points'].sum().sort_values(ascending=False)\n",
    "temporada.head(20)"
   ]
  },
  {
   "cell_type": "code",
   "execution_count": null,
   "metadata": {
    "vscode": {
     "languageId": "plaintext"
    }
   },
   "outputs": [],
   "source": [
    "temporada = df[df['season'] == 2019].groupby('team')['points'].sum().sort_values(ascending=False)\n",
    "temporada.head(20)"
   ]
  },
  {
   "cell_type": "code",
   "execution_count": null,
   "metadata": {
    "vscode": {
     "languageId": "plaintext"
    }
   },
   "outputs": [],
   "source": [
    "temporada = df[df['season'] == 2009].groupby('team')['points'].sum().sort_values(ascending=False)\n",
    "temporada.head(20)"
   ]
  },
  {
   "cell_type": "code",
   "execution_count": null,
   "metadata": {
    "vscode": {
     "languageId": "plaintext"
    }
   },
   "outputs": [],
   "source": [
    "df['goals_against'] = df['goals'] - df['goals_diff']"
   ]
  },
  {
   "cell_type": "code",
   "execution_count": null,
   "metadata": {
    "vscode": {
     "languageId": "plaintext"
    }
   },
   "outputs": [],
   "source": [
    "temporada = df[df['season'] == 2019].copy()\n",
    "temporada['goals_against'] = temporada['goals'] - temporada['goals_diff']\n",
    "temporada['goal_diff'] = temporada['goals'] - temporada['goals_against']\n",
    "resultado = temporada.groupby('team')[['goals', 'goals_against', 'goal_diff']].sum()\n",
    "resultado = resultado.sort_values(by='goal_diff', ascending=False)\n",
    "resultado.head(20)"
   ]
  },
  {
   "cell_type": "code",
   "execution_count": null,
   "metadata": {
    "vscode": {
     "languageId": "plaintext"
    }
   },
   "outputs": [],
   "source": [
    "df_periodo = df[(df['season'] >= 2014) & (df['season'] <= 2024)]\n",
    "maior_pontuacao_por_ano = df_periodo.loc[df_periodo.groupby('season')['points'].idxmax()]\n",
    "maior_pontuacao_ordenada = maior_pontuacao_por_ano.sort_values(by='points', ascending=False)\n",
    "maior_pontuacao_ordenada[['season', 'team', 'points']]"
   ]
  },
  {
   "cell_type": "code",
   "execution_count": null,
   "metadata": {
    "vscode": {
     "languageId": "plaintext"
    }
   },
   "outputs": [],
   "source": [
    "df_intervalo = df[(df['season'] >= 2014) & (df['season'] <= 2024)]\n",
    "pontos_por_time = df_intervalo.groupby('team')['points'].sum().sort_values(ascending=False)\n",
    "pontos_por_time.head(10)"
   ]
  },
  {
   "cell_type": "code",
   "execution_count": null,
   "metadata": {
    "vscode": {
     "languageId": "plaintext"
    }
   },
   "outputs": [],
   "source": [
    "df_intervalo = df[(df['season'] >= 2014) & (df['season'] <= 2024)]\n",
    "df_intervalo"
   ]
  },
  {
   "cell_type": "code",
   "execution_count": null,
   "metadata": {
    "vscode": {
     "languageId": "plaintext"
    }
   },
   "outputs": [],
   "source": [
    "temporada = df[df['season'] == 2003].groupby('team')['goals'].sum().sort_values(ascending=False)\n",
    "temporada.head(24)"
   ]
  },
  {
   "cell_type": "code",
   "execution_count": null,
   "metadata": {
    "vscode": {
     "languageId": "plaintext"
    }
   },
   "outputs": [],
   "source": [
    "temporada = df[df['season'] == 2003].groupby('team')['points'].sum().sort_values(ascending=False)\n",
    "temporada.head(24)"
   ]
  },
  {
   "cell_type": "code",
   "execution_count": null,
   "metadata": {
    "vscode": {
     "languageId": "plaintext"
    }
   },
   "outputs": [],
   "source": [
    "df_2014 = df[df['season'] >= 2014]\n",
    "df_2014"
   ]
  },
  {
   "cell_type": "code",
   "execution_count": null,
   "metadata": {
    "vscode": {
     "languageId": "plaintext"
    }
   },
   "outputs": [],
   "source": [
    "rebaixados = df_2014[df_2014['place'] >= 17]\n",
    "rebaixados"
   ]
  },
  {
   "cell_type": "code",
   "execution_count": null,
   "metadata": {
    "vscode": {
     "languageId": "plaintext"
    }
   },
   "outputs": [],
   "source": [
    "times_mais_rebaixados = rebaixados.groupby('team').size().sort_values(ascending=False)\n",
    "times_mais_rebaixados"
   ]
  },
  {
   "cell_type": "code",
   "execution_count": null,
   "metadata": {
    "vscode": {
     "languageId": "plaintext"
    }
   },
   "outputs": [],
   "source": [
    "top_10_times = df.groupby('team')['points'].sum().sort_values(ascending=False).head(10)\n",
    "top_10_times"
   ]
  },
  {
   "cell_type": "code",
   "execution_count": null,
   "metadata": {
    "vscode": {
     "languageId": "plaintext"
    }
   },
   "outputs": [],
   "source": [
    "campeao = df_2014[df_2014['place'] == 1]\n",
    "campeao"
   ]
  },
  {
   "cell_type": "code",
   "execution_count": null,
   "metadata": {
    "vscode": {
     "languageId": "plaintext"
    }
   },
   "outputs": [],
   "source": [
    "campeao_mais_vezes = campeao.groupby('team').size().sort_values(ascending=False)\n",
    "campeao_mais_vezes"
   ]
  },
  {
   "cell_type": "code",
   "execution_count": null,
   "metadata": {
    "vscode": {
     "languageId": "plaintext"
    }
   },
   "outputs": [],
   "source": [
    "import matplotlib.pyplot as plt\n",
    "import seaborn as sns"
   ]
  },
  {
   "cell_type": "code",
   "execution_count": null,
   "metadata": {
    "vscode": {
     "languageId": "plaintext"
    }
   },
   "outputs": [],
   "source": [
    "campeao_mais_vezes.plot(kind='bar')\n",
    "plt.title('Times Campeões do Brasileirão')\n",
    "plt.xlabel('Time')\n",
    "plt.ylabel('Quantidade de Vitórias')\n",
    "plt.show()"
   ]
  },
  {
   "cell_type": "code",
   "execution_count": null,
   "metadata": {
    "vscode": {
     "languageId": "plaintext"
    }
   },
   "outputs": [],
   "source": [
    "top_10_times.plot(kind='bar')\n",
    "plt.title('Top 10 Times com Mais Pontos')\n",
    "plt.xlabel('Time')\n",
    "plt.ylabel('Pontos')\n",
    "plt.show()"
   ]
  },
  {
   "cell_type": "code",
   "execution_count": null,
   "metadata": {
    "vscode": {
     "languageId": "plaintext"
    }
   },
   "outputs": [],
   "source": [
    "top_time_com_mais_vitoria = df.groupby('team')['won'].sum().sort_values(ascending=False).head(10)\n",
    "top_time_com_mais_vitoria"
   ]
  },
  {
   "cell_type": "code",
   "execution_count": null,
   "metadata": {
    "vscode": {
     "languageId": "plaintext"
    }
   },
   "outputs": [],
   "source": [
    "time_com_mais_vitoria_df = pontos_por_time.reset_index()\n",
    "time_com_mais_vitoria_df.columns = ['team', 'won']\n",
    "\n",
    "sns.barplot(x=\"won\", y=\"team\", data=time_com_mais_vitoria_df.head(10), palette=\"viridis\")\n",
    "#top_time_com_mais_vitoria.plot(kind='bar')\n",
    "plt.title('Top 10 Times com Mais Vitórias')\n",
    "plt.xlabel('Vitorias')\n",
    "plt.ylabel('Time')\n",
    "plt.xticks(rotation=45)\n",
    "plt.show()"
   ]
  },
  {
   "cell_type": "code",
   "execution_count": null,
   "metadata": {
    "vscode": {
     "languageId": "plaintext"
    }
   },
   "outputs": [],
   "source": [
    "pontos_por_time_df = pontos_por_time.reset_index()\n",
    "pontos_por_time_df.columns = ['team', 'points']\n",
    "\n",
    "sns.barplot(x=\"points\", y=\"team\", data=pontos_por_time_df.head(10), palette=\"viridis\")\n",
    "plt.title('Top 10 times com mais pontos (2014–2024)')\n",
    "plt.ylabel('Time')\n",
    "plt.xlabel('Pontos')\n",
    "plt.xticks(rotation=45)\n",
    "plt.tight_layout()\n",
    "plt.show()"
   ]
  },
  {
   "cell_type": "code",
   "execution_count": null,
   "metadata": {
    "vscode": {
     "languageId": "plaintext"
    }
   },
   "outputs": [],
   "source": [
    "latest_season = df[\"season\"].max()\n",
    "latest_season_df = df[df[\"season\"] == latest_season].nlargest(5, \"points\")\n",
    "plt.figure()\n",
    "sns.barplot(data=latest_season_df, x=\"points\", y=\"team\", palette=\"viridis\")\n",
    "plt.title(f\"Top 5 times com mais pontos - Temporada {latest_season}\")\n",
    "plt.xlabel(\"Pontos\")\n",
    "plt.ylabel(\"Time\")\n",
    "plt.tight_layout()\n",
    "plt.show()"
   ]
  },
  {
   "cell_type": "code",
   "execution_count": null,
   "metadata": {
    "vscode": {
     "languageId": "plaintext"
    }
   },
   "outputs": [],
   "source": [
    "df_recente = df[(df['season'] >= 2014) & (df['season'] <= 2024)].copy()\n",
    "df_recente['season'] = df_recente['season'].astype(int)\n",
    "campeoes = df_recente[df_recente['place'] == 1]\n",
    "\n",
    "plt.figure(figsize=(12, 6))\n",
    "sns.lineplot(data=campeoes, x='season', y='points', marker='o', markersize=8)\n",
    "plt.title('Evolução dos Pontos dos Campeões (2014-2024)', fontsize=14)\n",
    "plt.xlabel('Temporada', fontsize=12)\n",
    "plt.ylabel('Pontos', fontsize=12)\n",
    "plt.xticks(df_recente['season'].unique())\n",
    "plt.grid(True, linestyle='--', alpha=0.7)\n",
    "plt.show()"
   ]
  },
  {
   "cell_type": "code",
   "execution_count": null,
   "metadata": {
    "vscode": {
     "languageId": "plaintext"
    }
   },
   "outputs": [],
   "source": [
    "plt.figure(figsize=(14, 7))\n",
    "sns.boxplot(data=df_recente, x='season', y='points')\n",
    "plt.title('Distribuição de Pontos por Temporada (2014-2024)', fontsize=14)\n",
    "plt.xlabel('Temporada', fontsize=12)\n",
    "plt.ylabel('Pontos', fontsize=12)\n",
    "plt.xticks(rotation=0)\n",
    "plt.grid(True, linestyle='--', alpha=0.7)\n",
    "plt.show()"
   ]
  },
  {
   "cell_type": "code",
   "execution_count": null,
   "metadata": {
    "vscode": {
     "languageId": "plaintext"
    }
   },
   "outputs": [],
   "source": [
    "sns.set(style='whitegrid')\n",
    "plt.figure(figsize=(12, 8))\n",
    "# Cria o boxplot com paleta de cores diferenciada\n",
    "sns.boxplot(data=df_recente, x='season', y='points', palette='viridis', showfliers=False)\n",
    "# Adiciona a média de pontos por temporada (em texto acima da caixa)\n",
    "medias = df_recente.groupby('season')['points'].mean()\n",
    "for season, media in medias.items():\n",
    "    plt.text(x=season - df_recente['season'].min(),  # posição X correta\n",
    "             y=media + 1,                            # ligeiramente acima da média\n",
    "             s=f'Média: {media:.1f}',                # texto com 1 casa decimal\n",
    "             ha='center', va='bottom', fontsize=9, color='black')\n",
    "\n",
    "# Título e rótulos\n",
    "plt.title('Distribuição de Pontos por Temporada (2014–2024)', fontsize=16, pad=20)\n",
    "plt.xlabel('Temporada', fontsize=12)\n",
    "plt.ylabel('Pontos', fontsize=12)\n",
    "\n",
    "# Rótulos do eixo X\n",
    "plt.xticks(rotation=0)\n",
    "plt.grid(True, linestyle='--', alpha=0.5)\n",
    "plt.tight_layout()\n",
    "plt.show()"
   ]
  },
  {
   "cell_type": "code",
   "execution_count": null,
   "metadata": {
    "vscode": {
     "languageId": "plaintext"
    }
   },
   "outputs": [],
   "source": [
    "times_principais = ['Grêmio', 'Atlético Mineiro', 'Palmeiras', 'Flamengo']\n",
    "\n",
    "plt.figure(figsize=(14, 8))\n",
    "for time in times_principais:\n",
    "    time_data = df_recente[df_recente['team'] == time]\n",
    "    sns.lineplot(data=time_data, x='season', y='place', marker='o', label=time)\n",
    "\n",
    "plt.gca().invert_yaxis()\n",
    "plt.title('Evolução da Posição dos Principais Times (2014-2024)', fontsize=14)\n",
    "plt.xlabel('Temporada', fontsize=12)\n",
    "plt.ylabel('Posição', fontsize=12)\n",
    "plt.xticks(df_recente['season'].unique())\n",
    "plt.legend()\n",
    "plt.grid(True, linestyle='--', alpha=0.7)\n",
    "plt.show()"
   ]
  },
  {
   "cell_type": "code",
   "execution_count": null,
   "metadata": {
    "vscode": {
     "languageId": "plaintext"
    }
   },
   "outputs": [],
   "source": [
    "plt.figure(figsize=(12, 6))\n",
    "plt.bar(campeoes['season'] - 0.2, campeoes['goals'], width=0.4, label='Gols Marcados')\n",
    "plt.bar(campeoes['season'] + 0.2, campeoes['goals_taken'], width=0.4, label='Gols Sofridos')\n",
    "plt.title('Ataque e Defesa dos Campeões (2014-2024)', fontsize=14)\n",
    "plt.xlabel('Temporada', fontsize=12)\n",
    "plt.ylabel('Gols', fontsize=12)\n",
    "plt.xticks(df_recente['season'].unique())\n",
    "plt.legend()\n",
    "plt.grid(True, linestyle='--', alpha=0.7)\n",
    "plt.show()"
   ]
  },
  {
   "cell_type": "code",
   "execution_count": null,
   "metadata": {
    "vscode": {
     "languageId": "plaintext"
    }
   },
   "outputs": [],
   "source": [
    "plt.figure(figsize=(12, 6))\n",
    "\n",
    "# Barras de Gols Marcados e Sofridos\n",
    "plt.bar(campeoes['season'] - 0.2, campeoes['goals'], width=0.4, label='Gols Marcados')\n",
    "plt.bar(campeoes['season'] + 0.2, campeoes['goals_taken'], width=0.4, label='Gols Sofridos')\n",
    "\n",
    "# Título e rótulos\n",
    "# plt.title('Ataque e Defesa dos Campeões (2014-2024)', fontsize=14)\n",
    "plt.xlabel('Temporada', fontsize=12)\n",
    "plt.ylabel('Gols', fontsize=12)\n",
    "plt.xticks(campeoes['season'])  # Certifique-se de usar a lista de temporadas correta\n",
    "\n",
    "# Adiciona o nome do time acima das barras\n",
    "for i in range(len(campeoes)):\n",
    "    temporada = campeoes['season'].iloc[i]\n",
    "    time = campeoes['team'].iloc[i]\n",
    "    gols = campeoes['goals'].iloc[i]\n",
    "    # Coloca o nome do time acima da barra de gols marcados\n",
    "    deslocamento = campeoes['goals'].max() * 0.03\n",
    "    plt.text(temporada, gols + deslocamento, time, ha='center', fontsize=13, rotation=30)\n",
    "    plt.ylim(top=campeoes['goals'].max() * 1.2)\n",
    "\n",
    "plt.legend()\n",
    "plt.grid(True, linestyle='--', alpha=0.7)\n",
    "plt.tight_layout()\n",
    "plt.show()"
   ]
  },
  {
   "cell_type": "code",
   "execution_count": null,
   "metadata": {
    "vscode": {
     "languageId": "plaintext"
    }
   },
   "outputs": [],
   "source": [
    "top_vitorias = df_recente.groupby('team')['won'].sum().sort_values(ascending=False).head(10)\n",
    "top_empates = df_recente.groupby('team')['draw'].sum().sort_values(ascending=False).head(10)\n",
    "\n",
    "fig, (ax1, ax2) = plt.subplots(1, 2, figsize=(16, 6))\n",
    "\n",
    "sns.barplot(x=top_vitorias.values, y=top_vitorias.index, ax=ax1, palette='Blues_d')\n",
    "ax1.set_title('Top 10 Times com Mais Vitórias (2014-2024)', fontsize=14)\n",
    "ax1.set_xlabel('Número de Vitórias', fontsize=12)\n",
    "ax1.set_ylabel('Time', fontsize=12)\n",
    "ax1.grid(True, linestyle='--', alpha=0.7)\n",
    "\n",
    "sns.barplot(x=top_empates.values, y=top_empates.index, ax=ax2, palette='Greens_d')\n",
    "ax2.set_title('Top 10 Times com Mais Empates (2014-2024)', fontsize=14)\n",
    "ax2.set_xlabel('Número de Empates', fontsize=12)\n",
    "ax2.set_ylabel('Time', fontsize=12)\n",
    "ax2.grid(True, linestyle='--', alpha=0.7)\n",
    "\n",
    "plt.tight_layout()\n",
    "plt.show()"
   ]
  },
  {
   "cell_type": "code",
   "execution_count": null,
   "metadata": {
    "vscode": {
     "languageId": "plaintext"
    }
   },
   "outputs": [],
   "source": [
    "top_derrotas = df_recente.groupby('team')['loss'].sum().sort_values(ascending=False).head(10)\n",
    "fig2, ax3 = plt.subplots(1, 1, figsize=(10, 6))\n",
    "sns.barplot(x=top_derrotas.values, y=top_derrotas.index, ax=ax3, palette='Reds_d')\n",
    "ax3.set_xlabel('Número de Derrotas', fontsize=12)\n",
    "ax3.set_ylabel('Time', fontsize=12)\n",
    "ax3.grid(True, linestyle='--', alpha=0.7)\n",
    "plt.tight_layout()\n",
    "plt.show()"
   ]
  },
  {
   "cell_type": "code",
   "execution_count": null,
   "metadata": {
    "vscode": {
     "languageId": "plaintext"
    }
   },
   "outputs": [],
   "source": [
    "df_2024 = df_recente[df_recente['season'] == 2024]\n",
    "\n",
    "plt.figure(figsize=(12, 8))\n",
    "sns.barplot(data=df_2024, x='points', y='team', hue='place', dodge=False, palette='viridis')\n",
    "plt.title('Desempenho dos Times em 2024', fontsize=14)\n",
    "plt.xlabel('Pontos', fontsize=12)\n",
    "plt.ylabel('Time', fontsize=12)\n",
    "plt.grid(True, linestyle='--', alpha=0.7)\n",
    "plt.tight_layout()\n",
    "plt.show()"
   ]
  }
 ],
 "metadata": {
  "language_info": {
   "name": "python"
  }
 },
 "nbformat": 4,
 "nbformat_minor": 2
}
